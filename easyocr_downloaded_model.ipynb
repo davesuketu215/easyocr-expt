{
 "cells": [
  {
   "cell_type": "code",
   "execution_count": 18,
   "id": "55e3cbfc-bc2f-4ad7-84bf-b2b0941d951e",
   "metadata": {},
   "outputs": [],
   "source": [
    "import easyocr"
   ]
  },
  {
   "cell_type": "code",
   "execution_count": 20,
   "id": "fd408b56-be13-4891-ad8a-4657031cbcbd",
   "metadata": {},
   "outputs": [],
   "source": [
    "# reader = easyocr.Reader(['en'], gpu=True, model_storage_directory=\"./model/english_g2/english_g2.pth\") # this needs to run only once to load the model into memory\n",
    "result = reader.readtext('./data/sample_01.jpg', detail=0)"
   ]
  },
  {
   "cell_type": "code",
   "execution_count": 21,
   "id": "4fe03dbc-7b92-4c0f-b2fe-e78f40edde4a",
   "metadata": {},
   "outputs": [
    {
     "data": {
      "text/plain": [
       "['Question 2 (30marks)',\n",
       " 'The',\n",
       " \"' following transactions occurred in Fighting Limited,\",\n",
       " 'a company',\n",
       " 'offering Thai Boxing lessons,',\n",
       " 'in December 2021.',\n",
       " 'On',\n",
       " 'December 2021, Peter has paid S5,000 to purchase courses coupon for [0 lessons to be',\n",
       " 'used in two months. In December; Peter has attended 2 Thai Boxing lessons_',\n",
       " 'The total amount',\n",
       " 'received was recorded as revenue earned by the Company.',\n",
       " '(2)',\n",
       " 'The Company is involved in a major lawsuit related to injuries of one of the students',\n",
       " 'during the',\n",
       " 'Thai Boxing lesson: The Company is being sued of $2.000,000 and the hearing date is fixed in',\n",
       " 'next March',\n",
       " \"The Company' $ lawyer advised that the company possibly lose the case but the\",\n",
       " 'amount cannot be estimated',\n",
       " 'at this',\n",
       " 'moment.',\n",
       " 'The lawsuit',\n",
       " 'not  disclosed in the financial',\n",
       " 'statements_',\n",
       " '(3) On',\n",
       " 'December 2021, the Company has purchased fitness equipment amounting to S120.000',\n",
       " 'with useful life of 5',\n",
       " 'The Company has recorded the whole amount',\n",
       " 'expense as the',\n",
       " 'Company is profitable in this year.',\n",
       " 'Due to high inflation rate, the purchase',\n",
       " 'of the existing training equipment Was raised by',\n",
       " '20% in this year: The Company ignored this factor and recorded the value Of training equipment',\n",
       " 'at S50,000 which is the amount paid for acquired the equipment in 2019.',\n",
       " '(5) Anson is the owner of the Company. In December, the Company paid a SL,O0O utility bill for',\n",
       " \"Anson '$ personal residence and recorded as an expense in the Company's book\",\n",
       " 'Required:',\n",
       " 'For each of the situations describe above,',\n",
       " 'identify the relevant accounting principle/concept;',\n",
       " 'state whether the accounting principlelconcept has been',\n",
       " '\\'violated\"',\n",
       " 'or',\n",
       " 'and',\n",
       " 'indicate the effect (with dollar_amount) of the above accounting treatment on',\n",
       " 'for_the_month ended 3L December 202L. Use the following symbols: 0 = overstated,',\n",
       " 'U = understated and NE = no effect.',\n",
       " 'years;',\n",
       " 'price',\n",
       " '\"applied\" ,',\n",
       " 'profit']"
      ]
     },
     "execution_count": 21,
     "metadata": {},
     "output_type": "execute_result"
    }
   ],
   "source": [
    "result"
   ]
  },
  {
   "cell_type": "code",
   "execution_count": null,
   "id": "71d6d718-9c3f-4d25-be98-974aca25b757",
   "metadata": {},
   "outputs": [],
   "source": []
  }
 ],
 "metadata": {
  "kernelspec": {
   "display_name": "Python 3 (ipykernel)",
   "language": "python",
   "name": "python3"
  },
  "language_info": {
   "codemirror_mode": {
    "name": "ipython",
    "version": 3
   },
   "file_extension": ".py",
   "mimetype": "text/x-python",
   "name": "python",
   "nbconvert_exporter": "python",
   "pygments_lexer": "ipython3",
   "version": "3.11.9"
  }
 },
 "nbformat": 4,
 "nbformat_minor": 5
}
